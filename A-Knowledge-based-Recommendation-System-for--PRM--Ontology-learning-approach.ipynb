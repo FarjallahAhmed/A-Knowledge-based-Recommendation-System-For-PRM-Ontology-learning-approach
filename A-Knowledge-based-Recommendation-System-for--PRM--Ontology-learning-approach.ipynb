{
 "cells": [
  {
   "cell_type": "markdown",
   "id": "47264bfc-9a53-4598-a47f-4a155fdc4eb5",
   "metadata": {},
   "source": [
    "# A Knowledge based Recommendation System for Project Mangement Ontology learning approach"
   ]
  },
  {
   "cell_type": "markdown",
   "id": "d0060197-734f-4b1d-a843-e92d078d9074",
   "metadata": {},
   "source": [
    "The procedure of ontology construction can be done in one of three ways: manual construction; cooperative construction (need the human intervention during the constructing process) and (semi-) automatic construction which considered the Ontology Learning (OL) approach. OL from text is the process for acquiring and representing knowledge from text [structured (database), semi-structured (XML file) and unstructured (.txt, pdf, etc)] to be in machine-understandable form [OWL, RDF (Resource Description Framework), or RDFS (Resource Description Framework Schema)], by applying a set of methods and techniques (NLP, data mining, and machine learning).\n",
    "\n",
    "-Natural Language Processing via NLTK and Spacy matcher linguistic-based preprocessing technique: (1)Tokénization and normalization (2) part-of –speech tagging (POS), (3)posTagger, (4) stopwords, Lemmatization (Stemming), (5) chunking. levenshetein measure, TF-IDF measure, leveithen measure, cosine similarity measure, topic modeling LDA, n-gram, -Recommenadtions techniques based on ML : hiaachical clutering, classification, KNN, etc -Performance measures: Precision, Recall and F measure, -Programmation: Python, java; -Semantic web language/Tool: OWL2, RDF and SWRL"
   ]
  },
  {
   "cell_type": "markdown",
   "id": "a7248be3-c002-44e7-97f0-dff71d2d9604",
   "metadata": {},
   "source": [
    "# Imports"
   ]
  },
  {
   "cell_type": "code",
   "execution_count": 1,
   "id": "062c767c-7213-414f-99ca-803ca25bb195",
   "metadata": {},
   "outputs": [],
   "source": [
    "import sys, fitz\n",
    "import pandas as pd\n",
    "import re\n",
    "import string\n",
    "import pandas as pd\n",
    "\n",
    "import spacy\n",
    "from spacy.matcher import Matcher\n",
    "from spacy.tokens import span\n",
    "from spacy import displacy\n",
    "\n",
    "\n",
    "import nltk\n",
    "from nltk.tokenize import word_tokenize, sent_tokenize\n",
    "from nltk.stem import WordNetLemmatizer,SnowballStemmer\n",
    "from nltk.corpus import wordnet, stopwords\n",
    "from nltk import pos_tag, RegexpParser\n",
    "\n",
    "from sklearn.feature_extraction.text import CountVectorizer\n",
    "from sklearn.feature_extraction.text import TfidfTransformer\n",
    "from sklearn.feature_extraction.text import TfidfVectorizer \n",
    "\n",
    "\n",
    "from nltk.corpus import stopwords\n",
    "\n",
    "from rdflib.namespace import DC, DCTERMS, DOAP, FOAF, OWL, RDF, RDFS, SKOS, VOID, XMLNS\n",
    "from rdflib import URIRef, BNode, Literal, Namespace, Graph\n",
    "from rdflib.extras import describer\n",
    "from rdflib.namespace import XSD\n",
    "\n",
    "\n",
    "#nltk.download('conll2000')\n",
    "from nltk.corpus import conll2000\n",
    "from nltk.tag import UnigramTagger, BigramTagger\n",
    "from nltk.chunk import ChunkParserI\n",
    "\n",
    "from nltk.tokenize import word_tokenize, sent_tokenize\n",
    "from nltk.stem import WordNetLemmatizer\n",
    "from nltk.corpus import wordnet as wn\n",
    "from keybert import KeyBERT\n",
    "\n",
    "\n",
    "#kw_model = KeyBERT(model='all-mpnet-base-v2')\n",
    "\n",
    "\n",
    "#stop = stopwords.words('english')\n",
    "#nlp = spacy.load(\"en_core_web_sm\")\n",
    "#nltk.download('omw-1.4')\n",
    "#nltk.download('wordnet')\n",
    "#nltk.download('stopwords')\n",
    "#nltk.download('punkt')\n",
    "#nltk.download('averaged_perceptron_tagger')"
   ]
  },
  {
   "cell_type": "markdown",
   "id": "604730a6-4399-491a-a234-850b9a286e61",
   "metadata": {},
   "source": [
    "# Util Funtions For Text-Preprocessing"
   ]
  },
  {
   "cell_type": "code",
   "execution_count": 2,
   "id": "ebd44a7d-29a3-4a89-8bb1-22f497ba3601",
   "metadata": {},
   "outputs": [],
   "source": [
    "def remove_punctuation(text):\n",
    "    \"\"\"\n",
    "        Remove the punctuation\n",
    "    \"\"\"\n",
    "    return re.sub(r'[]!\"$%&\\'()*+/:;=#@?[\\\\^_`{|}~-]+', \" \", text)"
   ]
  },
  {
   "cell_type": "code",
   "execution_count": 3,
   "id": "f77b47a5-eb60-4de4-b9b1-1fabcb5c72fc",
   "metadata": {},
   "outputs": [],
   "source": [
    "def remove_number(text):\n",
    "    \"\"\"\n",
    "        Remove the number\n",
    "    \"\"\"\n",
    "    pattern = r'[0-9]'\n",
    "    # Match all digits in the string and replace them with an empty string\n",
    "    new_string = re.sub(pattern, ' ', text)\n",
    "\n",
    "    return new_string"
   ]
  },
  {
   "cell_type": "code",
   "execution_count": 4,
   "id": "1a70dc3b-918a-4d11-a7d6-ec721349c08b",
   "metadata": {},
   "outputs": [],
   "source": [
    "def remove_non_ascii(text):\n",
    "    \"\"\"\n",
    "        Remove non-ASCII characters \n",
    "    \"\"\"\n",
    "    return re.sub(r'[^\\x00-\\x7f]',r' ', text)"
   ]
  },
  {
   "cell_type": "code",
   "execution_count": 5,
   "id": "eb4837e1-a2fc-4a5c-b025-bdf8d9a0c7b4",
   "metadata": {},
   "outputs": [],
   "source": [
    "def remove_lineBreak(text):\n",
    "    \"\"\"\n",
    "        Remove line break\n",
    "    \"\"\"\n",
    "    return re.sub(\"\\n\",\" \",text)"
   ]
  },
  {
   "cell_type": "code",
   "execution_count": 6,
   "id": "4e6b2bc1-5d96-438b-a5c7-67af805c358f",
   "metadata": {},
   "outputs": [],
   "source": [
    "def lowerCase(text):\n",
    "    \"\"\"\n",
    "        Transform all the text to lower case\n",
    "    \"\"\"\n",
    "    return text.lower()"
   ]
  },
  {
   "cell_type": "code",
   "execution_count": 7,
   "id": "91f52ca0-fed3-4ce5-93f2-478e17239bfa",
   "metadata": {},
   "outputs": [],
   "source": [
    "def remove_extra_whitespaces_func(text):\n",
    "    '''\n",
    "    Removes extra whitespaces from a string, if present\n",
    "    \n",
    "    Args:\n",
    "        text (str): String to which the function is to be applied, string\n",
    "    \n",
    "    Returns:\n",
    "        Clean string without extra whitespaces\n",
    "    ''' \n",
    "    return re.sub(r'^\\s*|\\s\\s*', ' ', text).strip()"
   ]
  },
  {
   "cell_type": "code",
   "execution_count": 8,
   "id": "4b1793f1-6765-4660-964b-f5289e83de43",
   "metadata": {},
   "outputs": [],
   "source": [
    "def find_title(text):\n",
    "    '''\n",
    "    Find the title presented in the text with the regex pattern (Exp: 5.1 Plan scope mangement)\n",
    "    \n",
    "    Args:\n",
    "        text (str): String to which the function is to be applied, string\n",
    "    \n",
    "    Returns:\n",
    "        the title found in the text \n",
    "    '''\n",
    "    return re.findall(\"[0-9].*[A-Z]\\n\",text)"
   ]
  },
  {
   "cell_type": "code",
   "execution_count": 9,
   "id": "fcdf7133-b8db-4a5b-a64a-e60ad2260667",
   "metadata": {},
   "outputs": [],
   "source": [
    "def get_section(text):\n",
    "    '''\n",
    "    Get the sections in a text (Exp: section 4.1.2)\n",
    "    \n",
    "    Args:\n",
    "        text (str): String to which the function is to be applied, string\n",
    "    \n",
    "    Returns:\n",
    "        the list of the section founded in the paragraph \n",
    "    '''\n",
    "    return re.findall('Section\\s[0-9].{1,7}',text)"
   ]
  },
  {
   "cell_type": "code",
   "execution_count": 10,
   "id": "b22988ba-63ac-44ef-bf7d-43943f309f37",
   "metadata": {},
   "outputs": [],
   "source": [
    "def get_figure(text):\n",
    "    '''\n",
    "    Get the figures in a text (Exp: section 4.1.2)\n",
    "    \n",
    "    Args:\n",
    "        text (str): String to which the function is to be applied, string\n",
    "    \n",
    "    Returns:\n",
    "        the list of the figures founded in the paragraph \n",
    "    '''\n",
    "    return re.findall(\"Figure\\s[0-9]-[0-9]{1,2}.\\s[A-Z]{1}.*\",text)"
   ]
  },
  {
   "cell_type": "code",
   "execution_count": 11,
   "id": "af2d6242-288d-4a1b-8567-03bac8d50091",
   "metadata": {},
   "outputs": [],
   "source": [
    "def get_clean_figure(text):\n",
    "    return re.sub('(Figure\\s\\d-\\d{1,2}.\\sFigure\\s[0-9].*)', ' ', text) "
   ]
  },
  {
   "cell_type": "code",
   "execution_count": 12,
   "id": "ed20f99b-8ca6-42cc-8cc0-41303d23267f",
   "metadata": {},
   "outputs": [],
   "source": [
    "def get_process_of_concept(df):\n",
    "    '''\n",
    "    Get the topic of each concept  (Exp: concept = PROJECT CHARTER -- topic = PLAN SCOPE MANAGEMENT )\n",
    "    \n",
    "    Args:\n",
    "        df (str): the concept column to which the function is to be applied, string\n",
    "    \n",
    "    Returns:\n",
    "        the topic of the concept passed \n",
    "    '''\n",
    "    index = []\n",
    "    for i in range(0,len(df['content'])) :\n",
    "        if df['content'][i] == ' ':\n",
    "            index.append(i)\n",
    "    df['topic'] = ''\n",
    "    for j in range(0,len(index)):\n",
    "        if j == len(index)-1:\n",
    "            df['topic'][index[j]:] = df['concept'][index[j]]\n",
    "            break;\n",
    "        else :\n",
    "            df['topic'][index[j]:index[j+1]] = df['concept'][index[j]]\n",
    "    return df['topic']"
   ]
  },
  {
   "cell_type": "code",
   "execution_count": 13,
   "id": "8c1c741c-445b-4f2e-99f7-0cb6ea81d6cd",
   "metadata": {},
   "outputs": [],
   "source": [
    "def create_columns_from_each_chapter(text,title,content,figures):\n",
    "    '''\n",
    "    Creation of the dataframe from the text passed\n",
    "    \n",
    "    Args:\n",
    "        text (str): the text from the pmbok that will be preprocced, string\n",
    "        title (list): the list that will contain the title \n",
    "        content (str): the str that will contain the content\n",
    "        figures (list): the list that contain the figures\n",
    "    Returns:\n",
    "        A dataframe with the following columns : concept, topic, figure, section, type,content \n",
    "    '''\n",
    "    dic = {}\n",
    "    title = find_title(text)\n",
    "    for i in range(0,len(title)):\n",
    "        value = re.sub('\\n',' ',title[i])\n",
    "        title[i] = value.strip()\n",
    "    \n",
    "    text = remove_lineBreak(text)\n",
    "    \n",
    "    for i in range(0,len(title)):\n",
    "        if i == (len(title)-1) : \n",
    "            content.append(re.findall(title[-1]+'(.*)'+'endchapter',text))\n",
    "            break;\n",
    "        else:\n",
    "            content.append(re.findall(title[i]+'(.*)'+title[i+1],text))\n",
    "    for i in range(0,len(content)):\n",
    "        dic[title[i]] = content[i][0]\n",
    "        \n",
    "    df = pd.DataFrame(list(dic.items()),columns=['concept','content'])\n",
    "    \n",
    "    df['section'] = df['content'].apply(lambda x : get_section(x))\n",
    "    df['figure'] = None\n",
    "    for i in range(0,len(figures)):\n",
    "        df['figure'][i] = figures[i] #df['definition'].apply(lambda x : get_figure(x))\n",
    "    df['type'] = get_type(df)\n",
    "    \n",
    "    \n",
    "    \n",
    "    return df #title,content"
   ]
  },
  {
   "cell_type": "code",
   "execution_count": 14,
   "id": "7ff76411-91bb-40b1-9873-ced3d3329bcc",
   "metadata": {},
   "outputs": [],
   "source": [
    "def get_type(df):\n",
    "    \n",
    "    '''\n",
    "    Get the type of each concept  (Exp: concept = PROJECT CHARTER -- type =  inputs of PLAN SCOPE MANAGEMENT )\n",
    "    \n",
    "    Args:\n",
    "        df (str): the concept column to which the function is to be applied, string\n",
    "    \n",
    "    Returns:\n",
    "        the type of each concept passed \n",
    "    '''\n",
    "    \n",
    "    start_input = []\n",
    "    start_tools_and_techniques = []\n",
    "    start_output = []\n",
    "    \n",
    "    title_list = df['concept'].apply(lambda x : lowerCase(x))\n",
    "    for i in range(0,len(title_list)):\n",
    "        if 'inputs' in title_list[i] :\n",
    "            start_input.append(i)\n",
    "        if 'tools and techniques' in title_list[i] :\n",
    "            start_tools_and_techniques.append(i)\n",
    "        if 'outputs' in title_list[i] :\n",
    "            start_output.append(i)\n",
    "    for i in range(0,len(start_input)) :\n",
    "        if i == len(start_input)-1 :\n",
    "            df.loc[start_input[-1]:start_tools_and_techniques[-1],'type'] = 'inputs'\n",
    "            df.loc[start_tools_and_techniques[-1]:start_output[-1],'type'] = 'tools_and_techniques'\n",
    "            df.loc[start_output[-1]:,'type'] = 'outputs'\n",
    "            break\n",
    "        df.loc[start_input[i]:start_tools_and_techniques[i],'type'] = 'inputs'\n",
    "        df.loc[start_tools_and_techniques[i]:start_output[i],'type'] = 'tools_and_techniques'\n",
    "        df.loc[start_output[i]:start_input[i+1],'type'] = 'outputs'\n",
    "    return df['type']"
   ]
  },
  {
   "cell_type": "code",
   "execution_count": null,
   "id": "e4b35b5a-16f6-43ac-9234-fa8b60955f15",
   "metadata": {},
   "outputs": [],
   "source": []
  },
  {
   "cell_type": "code",
   "execution_count": null,
   "id": "5bd6c961-edd0-431a-935c-98263749c59f",
   "metadata": {},
   "outputs": [],
   "source": []
  },
  {
   "cell_type": "markdown",
   "id": "7da0d9e7-6711-4849-b80c-82d46c7d5d7d",
   "metadata": {},
   "source": [
    "# Import Data From The PDF File"
   ]
  },
  {
   "cell_type": "markdown",
   "id": "6bf0e2bc-6bc7-4c44-868a-d2a19fd685c3",
   "metadata": {},
   "source": [
    "## 1. Retrive The Text From The PMBOK"
   ]
  },
  {
   "cell_type": "code",
   "execution_count": 15,
   "id": "3d71d6fb-3aae-4041-9fdb-be2dfbd391fd",
   "metadata": {},
   "outputs": [],
   "source": [
    "# Get The text from the pdf file with the library fitz\n",
    "fdoc = fitz.open(\"PMBOK6-2017.pdf\")\n",
    "header = \"Header\"  # text in header\n",
    "footer = \"Page %i of %i\"  # text in footer\n",
    "page = []\n",
    "for i  in range(0,573):\n",
    "    page.append(fdoc[i].get_text())  # insert header"
   ]
  },
  {
   "cell_type": "markdown",
   "id": "8bb8aedd-0942-4fea-933d-35e07e8737c2",
   "metadata": {
    "jupyter": {
     "outputs_hidden": true
    },
    "tags": []
   },
   "source": [
    "# 2. Get the text for each chapter"
   ]
  },
  {
   "cell_type": "markdown",
   "id": "a5459eb2-2129-4f85-b843-58130bf49fca",
   "metadata": {},
   "source": [
    "### 2.1 Initialize Variables"
   ]
  },
  {
   "cell_type": "code",
   "execution_count": 16,
   "id": "085c1273-5761-48ba-84da-752d2e960159",
   "metadata": {},
   "outputs": [],
   "source": [
    "# variable represent each chapter that we will work with \n",
    "scope = []\n",
    "schedule = []\n",
    "cost = []\n",
    "\n",
    "# variable represent title that we get from each chapter and the variable with contient the whole text that we will work with \n",
    "scope_title = []\n",
    "scope_title_without_number = []\n",
    "scope_text = ' '\n",
    "scope_content = []\n",
    "\n",
    "schedule_title = []\n",
    "schedule_title_without_number = []\n",
    "schedule_text = ' '\n",
    "schedule_content = []\n",
    "\n",
    "cost_title = []\n",
    "cost_title_without_number = []\n",
    "cost_text = ' '\n",
    "cost_content = []\n",
    "\n",
    "figures_scope = []\n",
    "figures_schedule = []\n",
    "figures_cost = []"
   ]
  },
  {
   "cell_type": "markdown",
   "id": "2c0c3822-ae91-4937-9618-3410470e8b0a",
   "metadata": {},
   "source": [
    "### 2.2 Project scope management"
   ]
  },
  {
   "cell_type": "code",
   "execution_count": 17,
   "id": "f92d0b26-72dd-4572-b88b-00507c475ec0",
   "metadata": {},
   "outputs": [],
   "source": [
    "for i in range(164,207):\n",
    "    p = re.sub('Not For Distribution, Sale or Reproduction.', ' ', page[i])\n",
    "    p = re.sub('[0-9]+\\s\\sPart 1 - Guide', ' ', p)\n",
    "    scope.append(p)\n",
    "    scope_title.append(re.findall(\"[0-9].*[A-Z]\\n\",p))\n",
    "    figures_scope.append(re.findall(\"Figure\\s[0-9]-[0-9]{1,2}.\\s[A-Z]{1}.*\",p))"
   ]
  },
  {
   "cell_type": "code",
   "execution_count": 18,
   "id": "5a7e0b3a-5e8e-4191-bc1d-d83a3dae3a3b",
   "metadata": {},
   "outputs": [],
   "source": [
    "for i in range(0,len(scope)):\n",
    "    scope_text = scope_text + scope[i]\n",
    "scope_text = scope_text + ' endchapter'"
   ]
  },
  {
   "cell_type": "code",
   "execution_count": 19,
   "id": "5d3c4489-92f6-436c-b3c5-3a0ecaec034d",
   "metadata": {},
   "outputs": [
    {
     "data": {
      "text/html": [
       "<div>\n",
       "<style scoped>\n",
       "    .dataframe tbody tr th:only-of-type {\n",
       "        vertical-align: middle;\n",
       "    }\n",
       "\n",
       "    .dataframe tbody tr th {\n",
       "        vertical-align: top;\n",
       "    }\n",
       "\n",
       "    .dataframe thead th {\n",
       "        text-align: right;\n",
       "    }\n",
       "</style>\n",
       "<table border=\"1\" class=\"dataframe\">\n",
       "  <thead>\n",
       "    <tr style=\"text-align: right;\">\n",
       "      <th></th>\n",
       "      <th>concept</th>\n",
       "      <th>content</th>\n",
       "      <th>section</th>\n",
       "      <th>figure</th>\n",
       "      <th>type</th>\n",
       "    </tr>\n",
       "  </thead>\n",
       "  <tbody>\n",
       "    <tr>\n",
       "      <th>0</th>\n",
       "      <td>5.4 Create WBS</td>\n",
       "      <td>—The process of subdividing project deliverabl...</td>\n",
       "      <td>[]</td>\n",
       "      <td>[]</td>\n",
       "      <td>NaN</td>\n",
       "    </tr>\n",
       "    <tr>\n",
       "      <th>1</th>\n",
       "      <td>5.1 PLAN SCOPE MANAGEMENT</td>\n",
       "      <td>Plan Scope Management is the process of creat...</td>\n",
       "      <td>[Section 4.2.3.1), Section 2.3), an, Section 2...</td>\n",
       "      <td>[Figure 5-1. Project Scope Management Overview]</td>\n",
       "      <td>NaN</td>\n",
       "    </tr>\n",
       "    <tr>\n",
       "      <th>2</th>\n",
       "      <td>5.1.1 PLAN SCOPE MANAGEMENT: INPUTS</td>\n",
       "      <td></td>\n",
       "      <td>[]</td>\n",
       "      <td>[]</td>\n",
       "      <td>inputs</td>\n",
       "    </tr>\n",
       "    <tr>\n",
       "      <th>3</th>\n",
       "      <td>5.1.1.1 PROJECT CHARTER</td>\n",
       "      <td>Described in Section 4.1.3.1. The project cha...</td>\n",
       "      <td>[Section 4.1.3.1.]</td>\n",
       "      <td>[]</td>\n",
       "      <td>inputs</td>\n",
       "    </tr>\n",
       "    <tr>\n",
       "      <th>4</th>\n",
       "      <td>5.1.1.2 PROJECT MANAGEMENT PLAN</td>\n",
       "      <td>Described in Section 4.2.3.1. Project managem...</td>\n",
       "      <td>[Section 4.2.3.1., Section 8.1.3.1.]</td>\n",
       "      <td>[]</td>\n",
       "      <td>inputs</td>\n",
       "    </tr>\n",
       "  </tbody>\n",
       "</table>\n",
       "</div>"
      ],
      "text/plain": [
       "                               concept  \\\n",
       "0                       5.4 Create WBS   \n",
       "1            5.1 PLAN SCOPE MANAGEMENT   \n",
       "2  5.1.1 PLAN SCOPE MANAGEMENT: INPUTS   \n",
       "3              5.1.1.1 PROJECT CHARTER   \n",
       "4      5.1.1.2 PROJECT MANAGEMENT PLAN   \n",
       "\n",
       "                                             content  \\\n",
       "0  —The process of subdividing project deliverabl...   \n",
       "1   Plan Scope Management is the process of creat...   \n",
       "2                                                      \n",
       "3   Described in Section 4.1.3.1. The project cha...   \n",
       "4   Described in Section 4.2.3.1. Project managem...   \n",
       "\n",
       "                                             section  \\\n",
       "0                                                 []   \n",
       "1  [Section 4.2.3.1), Section 2.3), an, Section 2...   \n",
       "2                                                 []   \n",
       "3                                 [Section 4.1.3.1.]   \n",
       "4               [Section 4.2.3.1., Section 8.1.3.1.]   \n",
       "\n",
       "                                            figure    type  \n",
       "0                                               []     NaN  \n",
       "1  [Figure 5-1. Project Scope Management Overview]     NaN  \n",
       "2                                               []  inputs  \n",
       "3                                               []  inputs  \n",
       "4                                               []  inputs  "
      ]
     },
     "execution_count": 19,
     "metadata": {},
     "output_type": "execute_result"
    }
   ],
   "source": [
    "df_scope = create_columns_from_each_chapter(scope_text,scope_title,scope_content,figures_scope)\n",
    "df_scope.head()"
   ]
  },
  {
   "cell_type": "code",
   "execution_count": null,
   "id": "fbfd5970-02d1-4e73-b30e-e6bdd4cfa9a2",
   "metadata": {},
   "outputs": [],
   "source": []
  },
  {
   "cell_type": "code",
   "execution_count": null,
   "id": "1d060e2f-3718-43d2-808b-f0c8e41c760d",
   "metadata": {},
   "outputs": [],
   "source": []
  },
  {
   "cell_type": "markdown",
   "id": "d1d5f9ee-5f95-49ba-ab13-453e1c6a8faf",
   "metadata": {},
   "source": [
    "# Text Preprocessing"
   ]
  },
  {
   "cell_type": "code",
   "execution_count": null,
   "id": "2957113b-52f1-4cff-a57b-e2d97fe7471e",
   "metadata": {},
   "outputs": [],
   "source": []
  },
  {
   "cell_type": "markdown",
   "id": "1c9497f3-791a-413c-8ca2-a2b64663b7b2",
   "metadata": {},
   "source": [
    "# Final DataFrame"
   ]
  },
  {
   "cell_type": "code",
   "execution_count": null,
   "id": "d96ed6cf-bd48-4808-bb8f-be37dc3e4270",
   "metadata": {},
   "outputs": [],
   "source": []
  },
  {
   "cell_type": "markdown",
   "id": "0c76e383-18c9-4f32-9dcb-faeeb91db9ba",
   "metadata": {},
   "source": [
    "# OWL File Creation"
   ]
  },
  {
   "cell_type": "code",
   "execution_count": null,
   "id": "d0a8cf13-ed72-4c31-93e4-b19663173c69",
   "metadata": {},
   "outputs": [],
   "source": []
  },
  {
   "cell_type": "markdown",
   "id": "e6e82f77-5192-4e72-975e-5a65d8df1a7e",
   "metadata": {},
   "source": [
    "# Model Creation "
   ]
  },
  {
   "cell_type": "code",
   "execution_count": null,
   "id": "e0e08c61-1a5b-4d0a-842b-09fe64d27e8b",
   "metadata": {},
   "outputs": [],
   "source": []
  }
 ],
 "metadata": {
  "kernelspec": {
   "display_name": "Python 3 (ipykernel)",
   "language": "python",
   "name": "python3"
  },
  "language_info": {
   "codemirror_mode": {
    "name": "ipython",
    "version": 3
   },
   "file_extension": ".py",
   "mimetype": "text/x-python",
   "name": "python",
   "nbconvert_exporter": "python",
   "pygments_lexer": "ipython3",
   "version": "3.8.12"
  }
 },
 "nbformat": 4,
 "nbformat_minor": 5
}
